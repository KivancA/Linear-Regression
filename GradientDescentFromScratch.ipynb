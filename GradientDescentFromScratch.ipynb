{
  "nbformat": 4,
  "nbformat_minor": 0,
  "metadata": {
    "colab": {
      "provenance": [],
      "authorship_tag": "ABX9TyPKhkxcQISOPwecOgEXNdeB",
      "include_colab_link": true
    },
    "kernelspec": {
      "name": "python3",
      "display_name": "Python 3"
    },
    "language_info": {
      "name": "python"
    }
  },
  "cells": [
    {
      "cell_type": "markdown",
      "metadata": {
        "id": "view-in-github",
        "colab_type": "text"
      },
      "source": [
        "<a href=\"https://colab.research.google.com/github/KivancA/Linear-Regression/blob/main/GradientDescentFromScratch.ipynb\" target=\"_parent\"><img src=\"https://colab.research.google.com/assets/colab-badge.svg\" alt=\"Open In Colab\"/></a>"
      ]
    },
    {
      "cell_type": "code",
      "execution_count": 1,
      "metadata": {
        "id": "VK1w39T7uCk9"
      },
      "outputs": [],
      "source": [
        "######################################################\n",
        "# Simple Linear Regression with Gradient Descent from Scratch\n",
        "######################################################\n",
        "\n",
        "# Cost function MSE\n",
        "def cost_function(Y, b, w, X):\n",
        "    m = len(Y)\n",
        "    sse = 0\n",
        "\n",
        "    for i in range(0, m):\n",
        "        y_hat = b + w * X[i]\n",
        "        y = Y[i]\n",
        "        sse += (y_hat - y) ** 2\n",
        "\n",
        "    mse = sse / m\n",
        "    return mse"
      ]
    },
    {
      "cell_type": "code",
      "source": [
        "# update_weights\n",
        "def update_weights(Y, b, w, X, learning_rate):\n",
        "    m = len(Y)\n",
        "    b_deriv_sum = 0\n",
        "    w_deriv_sum = 0\n",
        "    for i in range(0, m):\n",
        "        y_hat = b + w * X[i]\n",
        "        y = Y[i]\n",
        "        b_deriv_sum += (y_hat - y)\n",
        "        w_deriv_sum += (y_hat - y) * X[i]\n",
        "    new_b = b - (learning_rate * 1 / m * b_deriv_sum)\n",
        "    new_w = w - (learning_rate * 1 / m * w_deriv_sum)\n",
        "    return new_b, new_w"
      ],
      "metadata": {
        "id": "OM4YSrTdv12Z"
      },
      "execution_count": 2,
      "outputs": []
    },
    {
      "cell_type": "code",
      "source": [
        "# train fonksiyonu\n",
        "import numpy as np\n",
        "import pandas as pd\n",
        "import matplotlib.pyplot as plt\n",
        "import seaborn as sns\n",
        "\n",
        "pd.set_option('display.float_format', lambda x: '%.2f' % x)\n",
        "\n",
        "from sklearn.linear_model import LinearRegression\n",
        "from sklearn.metrics import mean_squared_error, mean_absolute_error\n",
        "from sklearn.model_selection import train_test_split, cross_val_score\n",
        "def train(Y, initial_b, initial_w, X, learning_rate, num_iters):\n",
        "\n",
        "    print(\"Starting gradient descent at b = {0}, w = {1}, mse = {2}\".format(initial_b, initial_w,\n",
        "                                                                   cost_function(Y, initial_b, initial_w, X)))\n",
        "\n",
        "    b = initial_b\n",
        "    w = initial_w\n",
        "    cost_history = []\n",
        "\n",
        "    for i in range(num_iters):\n",
        "        b, w = update_weights(Y, b, w, X, learning_rate)\n",
        "        mse = cost_function(Y, b, w, X)\n",
        "        cost_history.append(mse)\n",
        "\n",
        "\n",
        "        if i % 100 == 0:\n",
        "            print(\"iter={:d}    b={:.2f}    w={:.4f}    mse={:.4}\".format(i, b, w, mse))\n",
        "\n",
        "\n",
        "    print(\"After {0} iterations b = {1}, w = {2}, mse = {3}\".format(num_iters, b, w, cost_function(Y, b, w, X)))\n",
        "    return cost_history, b, w\n",
        "\n",
        "\n",
        "df = pd.read_csv(\"/content/advertising.csv\")\n",
        "\n",
        "X = df[\"radio\"]\n",
        "Y = df[\"sales\"]"
      ],
      "metadata": {
        "id": "IVLuyNOLwARA"
      },
      "execution_count": 6,
      "outputs": []
    },
    {
      "cell_type": "code",
      "source": [
        "# hyperparameters\n",
        "learning_rate = 0.001\n",
        "initial_b = 0.001\n",
        "initial_w = 0.001\n",
        "num_iters = 100000\n",
        "\n",
        "cost_history, b, w = train(Y, initial_b, initial_w, X, learning_rate, num_iters)"
      ],
      "metadata": {
        "colab": {
          "base_uri": "https://localhost:8080/",
          "height": 1000
        },
        "id": "rCVJe1Ngwhpx",
        "outputId": "62f2f3ca-82a1-46a0-c8a0-92ea0abbe36b"
      },
      "execution_count": 7,
      "outputs": [
        {
          "output_type": "stream",
          "name": "stdout",
          "text": [
            "Starting gradient descent at b = 0.001, w = 0.001, mse = 222.9477491673001\n",
            "iter=0    b=0.01    w=0.3708    mse=53.25\n",
            "iter=100    b=0.28    w=0.4788    mse=41.6\n",
            "iter=200    b=0.54    w=0.4709    mse=40.29\n",
            "iter=300    b=0.79    w=0.4633    mse=39.04\n",
            "iter=400    b=1.03    w=0.4559    mse=37.87\n",
            "iter=500    b=1.27    w=0.4487    mse=36.76\n",
            "iter=600    b=1.49    w=0.4417    mse=35.72\n",
            "iter=700    b=1.72    w=0.4349    mse=34.73\n",
            "iter=800    b=1.93    w=0.4283    mse=33.8\n",
            "iter=900    b=2.14    w=0.4219    mse=32.92\n",
            "iter=1000    b=2.35    w=0.4157    mse=32.09\n",
            "iter=1100    b=2.54    w=0.4096    mse=31.3\n",
            "iter=1200    b=2.74    w=0.4037    mse=30.56\n",
            "iter=1300    b=2.92    w=0.3980    mse=29.87\n",
            "iter=1400    b=3.10    w=0.3925    mse=29.21\n",
            "iter=1500    b=3.28    w=0.3871    mse=28.58\n",
            "iter=1600    b=3.45    w=0.3818    mse=28.0\n",
            "iter=1700    b=3.62    w=0.3767    mse=27.44\n",
            "iter=1800    b=3.78    w=0.3718    mse=26.92\n",
            "iter=1900    b=3.94    w=0.3670    mse=26.42\n",
            "iter=2000    b=4.09    w=0.3623    mse=25.96\n",
            "iter=2100    b=4.24    w=0.3578    mse=25.52\n",
            "iter=2200    b=4.38    w=0.3534    mse=25.1\n",
            "iter=2300    b=4.52    w=0.3491    mse=24.71\n",
            "iter=2400    b=4.66    w=0.3449    mse=24.34\n",
            "iter=2500    b=4.79    w=0.3409    mse=23.99\n",
            "iter=2600    b=4.92    w=0.3369    mse=23.66\n",
            "iter=2700    b=5.04    w=0.3331    mse=23.35\n",
            "iter=2800    b=5.16    w=0.3294    mse=23.05\n",
            "iter=2900    b=5.28    w=0.3258    mse=22.77\n",
            "iter=3000    b=5.40    w=0.3223    mse=22.51\n",
            "iter=3100    b=5.51    w=0.3189    mse=22.26\n",
            "iter=3200    b=5.62    w=0.3156    mse=22.03\n",
            "iter=3300    b=5.72    w=0.3124    mse=21.81\n",
            "iter=3400    b=5.82    w=0.3093    mse=21.6\n",
            "iter=3500    b=5.92    w=0.3062    mse=21.41\n",
            "iter=3600    b=6.02    w=0.3033    mse=21.22\n",
            "iter=3700    b=6.11    w=0.3004    mse=21.05\n",
            "iter=3800    b=6.20    w=0.2976    mse=20.88\n",
            "iter=3900    b=6.29    w=0.2949    mse=20.72\n",
            "iter=4000    b=6.38    w=0.2923    mse=20.58\n",
            "iter=4100    b=6.46    w=0.2898    mse=20.44\n",
            "iter=4200    b=6.54    w=0.2873    mse=20.31\n",
            "iter=4300    b=6.62    w=0.2849    mse=20.18\n",
            "iter=4400    b=6.70    w=0.2825    mse=20.06\n",
            "iter=4500    b=6.77    w=0.2803    mse=19.95\n",
            "iter=4600    b=6.84    w=0.2780    mse=19.85\n",
            "iter=4700    b=6.91    w=0.2759    mse=19.75\n",
            "iter=4800    b=6.98    w=0.2738    mse=19.66\n",
            "iter=4900    b=7.05    w=0.2718    mse=19.57\n",
            "iter=5000    b=7.11    w=0.2698    mse=19.49\n",
            "iter=5100    b=7.17    w=0.2679    mse=19.41\n",
            "iter=5200    b=7.23    w=0.2660    mse=19.34\n",
            "iter=5300    b=7.29    w=0.2642    mse=19.27\n",
            "iter=5400    b=7.35    w=0.2625    mse=19.2\n",
            "iter=5500    b=7.41    w=0.2608    mse=19.14\n",
            "iter=5600    b=7.46    w=0.2591    mse=19.08\n",
            "iter=5700    b=7.51    w=0.2575    mse=19.02\n",
            "iter=5800    b=7.56    w=0.2560    mse=18.97\n",
            "iter=5900    b=7.61    w=0.2544    mse=18.92\n",
            "iter=6000    b=7.66    w=0.2530    mse=18.88\n",
            "iter=6100    b=7.71    w=0.2515    mse=18.83\n",
            "iter=6200    b=7.75    w=0.2501    mse=18.79\n",
            "iter=6300    b=7.80    w=0.2488    mse=18.75\n",
            "iter=6400    b=7.84    w=0.2475    mse=18.72\n",
            "iter=6500    b=7.88    w=0.2462    mse=18.68\n",
            "iter=6600    b=7.92    w=0.2450    mse=18.65\n",
            "iter=6700    b=7.96    w=0.2437    mse=18.62\n",
            "iter=6800    b=8.00    w=0.2426    mse=18.59\n",
            "iter=6900    b=8.04    w=0.2414    mse=18.56\n",
            "iter=7000    b=8.08    w=0.2403    mse=18.53\n",
            "iter=7100    b=8.11    w=0.2393    mse=18.51\n",
            "iter=7200    b=8.14    w=0.2382    mse=18.49\n",
            "iter=7300    b=8.18    w=0.2372    mse=18.46\n",
            "iter=7400    b=8.21    w=0.2362    mse=18.44\n",
            "iter=7500    b=8.24    w=0.2353    mse=18.42\n",
            "iter=7600    b=8.27    w=0.2343    mse=18.4\n",
            "iter=7700    b=8.30    w=0.2334    mse=18.39\n",
            "iter=7800    b=8.33    w=0.2325    mse=18.37\n",
            "iter=7900    b=8.36    w=0.2317    mse=18.35\n",
            "iter=8000    b=8.38    w=0.2309    mse=18.34\n",
            "iter=8100    b=8.41    w=0.2301    mse=18.33\n",
            "iter=8200    b=8.44    w=0.2293    mse=18.31\n",
            "iter=8300    b=8.46    w=0.2285    mse=18.3\n"
          ]
        },
        {
          "output_type": "error",
          "ename": "KeyboardInterrupt",
          "evalue": "ignored",
          "traceback": [
            "\u001b[0;31m---------------------------------------------------------------------------\u001b[0m",
            "\u001b[0;31mKeyboardInterrupt\u001b[0m                         Traceback (most recent call last)",
            "\u001b[0;32m<ipython-input-7-7f29902d28e8>\u001b[0m in \u001b[0;36m<cell line: 7>\u001b[0;34m()\u001b[0m\n\u001b[1;32m      5\u001b[0m \u001b[0mnum_iters\u001b[0m \u001b[0;34m=\u001b[0m \u001b[0;36m100000\u001b[0m\u001b[0;34m\u001b[0m\u001b[0;34m\u001b[0m\u001b[0m\n\u001b[1;32m      6\u001b[0m \u001b[0;34m\u001b[0m\u001b[0m\n\u001b[0;32m----> 7\u001b[0;31m \u001b[0mcost_history\u001b[0m\u001b[0;34m,\u001b[0m \u001b[0mb\u001b[0m\u001b[0;34m,\u001b[0m \u001b[0mw\u001b[0m \u001b[0;34m=\u001b[0m \u001b[0mtrain\u001b[0m\u001b[0;34m(\u001b[0m\u001b[0mY\u001b[0m\u001b[0;34m,\u001b[0m \u001b[0minitial_b\u001b[0m\u001b[0;34m,\u001b[0m \u001b[0minitial_w\u001b[0m\u001b[0;34m,\u001b[0m \u001b[0mX\u001b[0m\u001b[0;34m,\u001b[0m \u001b[0mlearning_rate\u001b[0m\u001b[0;34m,\u001b[0m \u001b[0mnum_iters\u001b[0m\u001b[0;34m)\u001b[0m\u001b[0;34m\u001b[0m\u001b[0;34m\u001b[0m\u001b[0m\n\u001b[0m",
            "\u001b[0;32m<ipython-input-6-4db8ef0f9ebd>\u001b[0m in \u001b[0;36mtrain\u001b[0;34m(Y, initial_b, initial_w, X, learning_rate, num_iters)\u001b[0m\n\u001b[1;32m     20\u001b[0m \u001b[0;34m\u001b[0m\u001b[0m\n\u001b[1;32m     21\u001b[0m     \u001b[0;32mfor\u001b[0m \u001b[0mi\u001b[0m \u001b[0;32min\u001b[0m \u001b[0mrange\u001b[0m\u001b[0;34m(\u001b[0m\u001b[0mnum_iters\u001b[0m\u001b[0;34m)\u001b[0m\u001b[0;34m:\u001b[0m\u001b[0;34m\u001b[0m\u001b[0;34m\u001b[0m\u001b[0m\n\u001b[0;32m---> 22\u001b[0;31m         \u001b[0mb\u001b[0m\u001b[0;34m,\u001b[0m \u001b[0mw\u001b[0m \u001b[0;34m=\u001b[0m \u001b[0mupdate_weights\u001b[0m\u001b[0;34m(\u001b[0m\u001b[0mY\u001b[0m\u001b[0;34m,\u001b[0m \u001b[0mb\u001b[0m\u001b[0;34m,\u001b[0m \u001b[0mw\u001b[0m\u001b[0;34m,\u001b[0m \u001b[0mX\u001b[0m\u001b[0;34m,\u001b[0m \u001b[0mlearning_rate\u001b[0m\u001b[0;34m)\u001b[0m\u001b[0;34m\u001b[0m\u001b[0;34m\u001b[0m\u001b[0m\n\u001b[0m\u001b[1;32m     23\u001b[0m         \u001b[0mmse\u001b[0m \u001b[0;34m=\u001b[0m \u001b[0mcost_function\u001b[0m\u001b[0;34m(\u001b[0m\u001b[0mY\u001b[0m\u001b[0;34m,\u001b[0m \u001b[0mb\u001b[0m\u001b[0;34m,\u001b[0m \u001b[0mw\u001b[0m\u001b[0;34m,\u001b[0m \u001b[0mX\u001b[0m\u001b[0;34m)\u001b[0m\u001b[0;34m\u001b[0m\u001b[0;34m\u001b[0m\u001b[0m\n\u001b[1;32m     24\u001b[0m         \u001b[0mcost_history\u001b[0m\u001b[0;34m.\u001b[0m\u001b[0mappend\u001b[0m\u001b[0;34m(\u001b[0m\u001b[0mmse\u001b[0m\u001b[0;34m)\u001b[0m\u001b[0;34m\u001b[0m\u001b[0;34m\u001b[0m\u001b[0m\n",
            "\u001b[0;32m<ipython-input-2-f5d9f6c27641>\u001b[0m in \u001b[0;36mupdate_weights\u001b[0;34m(Y, b, w, X, learning_rate)\u001b[0m\n\u001b[1;32m      5\u001b[0m     \u001b[0mw_deriv_sum\u001b[0m \u001b[0;34m=\u001b[0m \u001b[0;36m0\u001b[0m\u001b[0;34m\u001b[0m\u001b[0;34m\u001b[0m\u001b[0m\n\u001b[1;32m      6\u001b[0m     \u001b[0;32mfor\u001b[0m \u001b[0mi\u001b[0m \u001b[0;32min\u001b[0m \u001b[0mrange\u001b[0m\u001b[0;34m(\u001b[0m\u001b[0;36m0\u001b[0m\u001b[0;34m,\u001b[0m \u001b[0mm\u001b[0m\u001b[0;34m)\u001b[0m\u001b[0;34m:\u001b[0m\u001b[0;34m\u001b[0m\u001b[0;34m\u001b[0m\u001b[0m\n\u001b[0;32m----> 7\u001b[0;31m         \u001b[0my_hat\u001b[0m \u001b[0;34m=\u001b[0m \u001b[0mb\u001b[0m \u001b[0;34m+\u001b[0m \u001b[0mw\u001b[0m \u001b[0;34m*\u001b[0m \u001b[0mX\u001b[0m\u001b[0;34m[\u001b[0m\u001b[0mi\u001b[0m\u001b[0;34m]\u001b[0m\u001b[0;34m\u001b[0m\u001b[0;34m\u001b[0m\u001b[0m\n\u001b[0m\u001b[1;32m      8\u001b[0m         \u001b[0my\u001b[0m \u001b[0;34m=\u001b[0m \u001b[0mY\u001b[0m\u001b[0;34m[\u001b[0m\u001b[0mi\u001b[0m\u001b[0;34m]\u001b[0m\u001b[0;34m\u001b[0m\u001b[0;34m\u001b[0m\u001b[0m\n\u001b[1;32m      9\u001b[0m         \u001b[0mb_deriv_sum\u001b[0m \u001b[0;34m+=\u001b[0m \u001b[0;34m(\u001b[0m\u001b[0my_hat\u001b[0m \u001b[0;34m-\u001b[0m \u001b[0my\u001b[0m\u001b[0;34m)\u001b[0m\u001b[0;34m\u001b[0m\u001b[0;34m\u001b[0m\u001b[0m\n",
            "\u001b[0;32m/usr/local/lib/python3.10/dist-packages/pandas/core/series.py\u001b[0m in \u001b[0;36m__getitem__\u001b[0;34m(self, key)\u001b[0m\n\u001b[1;32m    966\u001b[0m     \u001b[0;32mdef\u001b[0m \u001b[0m__getitem__\u001b[0m\u001b[0;34m(\u001b[0m\u001b[0mself\u001b[0m\u001b[0;34m,\u001b[0m \u001b[0mkey\u001b[0m\u001b[0;34m)\u001b[0m\u001b[0;34m:\u001b[0m\u001b[0;34m\u001b[0m\u001b[0;34m\u001b[0m\u001b[0m\n\u001b[1;32m    967\u001b[0m         \u001b[0mcheck_deprecated_indexers\u001b[0m\u001b[0;34m(\u001b[0m\u001b[0mkey\u001b[0m\u001b[0;34m)\u001b[0m\u001b[0;34m\u001b[0m\u001b[0;34m\u001b[0m\u001b[0m\n\u001b[0;32m--> 968\u001b[0;31m         \u001b[0mkey\u001b[0m \u001b[0;34m=\u001b[0m \u001b[0mcom\u001b[0m\u001b[0;34m.\u001b[0m\u001b[0mapply_if_callable\u001b[0m\u001b[0;34m(\u001b[0m\u001b[0mkey\u001b[0m\u001b[0;34m,\u001b[0m \u001b[0mself\u001b[0m\u001b[0;34m)\u001b[0m\u001b[0;34m\u001b[0m\u001b[0;34m\u001b[0m\u001b[0m\n\u001b[0m\u001b[1;32m    969\u001b[0m \u001b[0;34m\u001b[0m\u001b[0m\n\u001b[1;32m    970\u001b[0m         \u001b[0;32mif\u001b[0m \u001b[0mkey\u001b[0m \u001b[0;32mis\u001b[0m \u001b[0mEllipsis\u001b[0m\u001b[0;34m:\u001b[0m\u001b[0;34m\u001b[0m\u001b[0;34m\u001b[0m\u001b[0m\n",
            "\u001b[0;32m/usr/local/lib/python3.10/dist-packages/pandas/core/common.py\u001b[0m in \u001b[0;36mapply_if_callable\u001b[0;34m(maybe_callable, obj, **kwargs)\u001b[0m\n\u001b[1;32m    360\u001b[0m \u001b[0;34m\u001b[0m\u001b[0m\n\u001b[1;32m    361\u001b[0m \u001b[0;34m\u001b[0m\u001b[0m\n\u001b[0;32m--> 362\u001b[0;31m \u001b[0;32mdef\u001b[0m \u001b[0mapply_if_callable\u001b[0m\u001b[0;34m(\u001b[0m\u001b[0mmaybe_callable\u001b[0m\u001b[0;34m,\u001b[0m \u001b[0mobj\u001b[0m\u001b[0;34m,\u001b[0m \u001b[0;34m**\u001b[0m\u001b[0mkwargs\u001b[0m\u001b[0;34m)\u001b[0m\u001b[0;34m:\u001b[0m\u001b[0;34m\u001b[0m\u001b[0;34m\u001b[0m\u001b[0m\n\u001b[0m\u001b[1;32m    363\u001b[0m     \"\"\"\n\u001b[1;32m    364\u001b[0m     \u001b[0mEvaluate\u001b[0m \u001b[0mpossibly\u001b[0m \u001b[0mcallable\u001b[0m \u001b[0minput\u001b[0m \u001b[0musing\u001b[0m \u001b[0mobj\u001b[0m \u001b[0;32mand\u001b[0m \u001b[0mkwargs\u001b[0m \u001b[0;32mif\u001b[0m \u001b[0mit\u001b[0m \u001b[0;32mis\u001b[0m \u001b[0mcallable\u001b[0m\u001b[0;34m,\u001b[0m\u001b[0;34m\u001b[0m\u001b[0;34m\u001b[0m\u001b[0m\n",
            "\u001b[0;31mKeyboardInterrupt\u001b[0m: "
          ]
        }
      ]
    }
  ]
}